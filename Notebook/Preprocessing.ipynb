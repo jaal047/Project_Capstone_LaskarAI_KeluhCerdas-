{
  "cells": [
    {
      "cell_type": "code",
      "execution_count": 1,
      "metadata": {
        "colab": {
          "base_uri": "https://localhost:8080/"
        },
        "id": "Hs6Ok4N4A1tW",
        "outputId": "71cf789a-12c4-4d82-e3c7-ca5bdf4f162d"
      },
      "outputs": [
        {
          "name": "stdout",
          "output_type": "stream",
          "text": [
            "Collecting pyforest\n",
            "  Downloading pyforest-1.1.2.tar.gz (17 kB)\n",
            "  Preparing metadata (setup.py): started\n",
            "  Preparing metadata (setup.py): finished with status 'done'\n",
            "Installing collected packages: pyforest\n",
            "  Running setup.py install for pyforest: started\n",
            "  Running setup.py install for pyforest: finished with status 'done'\n",
            "Successfully installed pyforest-1.1.2\n"
          ]
        },
        {
          "name": "stderr",
          "output_type": "stream",
          "text": [
            "  DEPRECATION: pyforest is being installed using the legacy 'setup.py install' method, because it does not have a 'pyproject.toml' and the 'wheel' package is not installed. pip 23.1 will enforce this behaviour change. A possible replacement is to enable the '--use-pep517' option. Discussion can be found at https://github.com/pypa/pip/issues/8559\n",
            "\n",
            "[notice] A new release of pip available: 22.3 -> 25.1.1\n",
            "[notice] To update, run: python.exe -m pip install --upgrade pip\n"
          ]
        },
        {
          "name": "stdout",
          "output_type": "stream",
          "text": [
            "Collecting demoji\n",
            "  Downloading demoji-1.1.0-py3-none-any.whl (42 kB)\n",
            "     -------------------------------------- 42.9/42.9 kB 260.9 kB/s eta 0:00:00\n",
            "Installing collected packages: demoji\n",
            "Successfully installed demoji-1.1.0\n"
          ]
        },
        {
          "name": "stderr",
          "output_type": "stream",
          "text": [
            "\n",
            "[notice] A new release of pip available: 22.3 -> 25.1.1\n",
            "[notice] To update, run: python.exe -m pip install --upgrade pip\n"
          ]
        }
      ],
      "source": [
        "!pip install pyforest\n",
        "!pip install demoji"
      ]
    },
    {
      "cell_type": "code",
      "execution_count": 9,
      "metadata": {
        "colab": {
          "base_uri": "https://localhost:8080/"
        },
        "id": "-3x1O8K2A30U",
        "outputId": "af56cc02-3de7-4b50-e5ea-007d18a3cecd"
      },
      "outputs": [
        {
          "name": "stderr",
          "output_type": "stream",
          "text": [
            "[nltk_data] Downloading package stopwords to\n",
            "[nltk_data]     C:\\Users\\Alqurtubi\\AppData\\Roaming\\nltk_data...\n",
            "[nltk_data]   Package stopwords is already up-to-date!\n",
            "[nltk_data] Downloading package punkt to\n",
            "[nltk_data]     C:\\Users\\Alqurtubi\\AppData\\Roaming\\nltk_data...\n",
            "[nltk_data]   Package punkt is already up-to-date!\n",
            "[nltk_data] Downloading package punkt_tab to\n",
            "[nltk_data]     C:\\Users\\Alqurtubi\\AppData\\Roaming\\nltk_data...\n",
            "[nltk_data]   Unzipping tokenizers\\punkt_tab.zip.\n"
          ]
        },
        {
          "data": {
            "text/plain": [
              "True"
            ]
          },
          "execution_count": 9,
          "metadata": {},
          "output_type": "execute_result"
        }
      ],
      "source": [
        "import nltk\n",
        "import re\n",
        "import pandas as pd\n",
        "from string import punctuation\n",
        "from nltk.corpus import stopwords\n",
        "from nltk import word_tokenize\n",
        "import demoji\n",
        "nltk.download('stopwords')\n",
        "nltk.download('punkt')\n",
        "nltk.download('punkt_tab')"
      ]
    },
    {
      "cell_type": "code",
      "execution_count": 4,
      "metadata": {},
      "outputs": [],
      "source": [
        "import os\n",
        "os.chdir(\"D:\\Belajar\\Laskar AI\\Capstone\\Proyek\")"
      ]
    },
    {
      "cell_type": "code",
      "execution_count": 34,
      "metadata": {
        "id": "vUjqzPXI74gn"
      },
      "outputs": [],
      "source": [
        "# load data\n",
        "df = pd.read_excel('Dataset\\Dataset_Capstone.xlsx')\n",
        "\n",
        "instansi = pd.read_csv('Dataset\\mediacenter_instansi_202311220929.csv', sep=';')\n",
        "instansi = instansi[['id', 'name']]\n",
        "topik = pd.read_csv('Dataset\\mediacenter_topik_202311230834.csv', sep=';')\n",
        "topik = topik[['id', 'name','jenis_topik']]\n",
        "kelurahan = pd.read_csv('Dataset\\mediacenter_kelurahan_202311220929.csv', sep=';')\n",
        "kelurahan = kelurahan[['id', 'name', 'kecamatan_id']]\n",
        "kecamatan = pd.read_csv('Dataset\\mediacenter_kecamatan_202311220929.csv', sep=';')\n",
        "kecamatan = kecamatan[['id', 'name']]"
      ]
    },
    {
      "cell_type": "code",
      "execution_count": 35,
      "metadata": {
        "id": "hOjNWOnK8tFg"
      },
      "outputs": [],
      "source": [
        "stop_words = set(stopwords.words('indonesian'))\n",
        "def preprocess_text(text):\n",
        "    text = str(text) # Convert Object to str\n",
        "    text = text.lower() # Lowercase text\n",
        "    text = text.replace('\\\\n\\\\n\\\\n', ' ')\n",
        "    text = text.replace('\\\\n\\\\n', ' ')\n",
        "    text = text.replace('\\\\n', ' ')\n",
        "    text = re.sub(r'^https?:\\/\\/.*[\\r\\n]*', '', text, flags=re.MULTILINE) # Remove link\n",
        "    text = re.sub(f\"[{re.escape(punctuation)}]\", \" \", text) # Remove punctuation\n",
        "    text = demoji.replace(text, \"\") # Remove emoji\n",
        "    text = \" \".join(text.split()) # Remove extra spaces, tabs, and new lines\n",
        "    text = word_tokenize(text) # Tokenize text after cleaning\n",
        "    text = [w for w in text if not w in stop_words]\n",
        "    return text\n",
        "\n",
        "df['keluhan_clean'] = df['keluhan'].apply(preprocess_text)"
      ]
    },
    {
      "cell_type": "code",
      "execution_count": 36,
      "metadata": {
        "colab": {
          "base_uri": "https://localhost:8080/",
          "height": 206
        },
        "id": "LDqWXs7wD_aA",
        "outputId": "8c0baad7-96a8-421c-dce7-300d0dd345ef"
      },
      "outputs": [
        {
          "name": "stderr",
          "output_type": "stream",
          "text": [
            "C:\\Users\\Alqurtubi\\AppData\\Local\\Temp\\ipykernel_9728\\2443572409.py:6: FutureWarning: Series.__getitem__ treating keys as positions is deprecated. In a future version, integer keys will always be treated as labels (consistent with DataFrame behavior). To access a value by position, use `ser.iloc[pos]`\n",
            "  if row[0] not in katabaku_dict:\n",
            "C:\\Users\\Alqurtubi\\AppData\\Local\\Temp\\ipykernel_9728\\2443572409.py:7: FutureWarning: Series.__getitem__ treating keys as positions is deprecated. In a future version, integer keys will always be treated as labels (consistent with DataFrame behavior). To access a value by position, use `ser.iloc[pos]`\n",
            "  katabaku_dict[row[0]] = row[1]\n"
          ]
        },
        {
          "data": {
            "text/html": [
              "<div>\n",
              "<style scoped>\n",
              "    .dataframe tbody tr th:only-of-type {\n",
              "        vertical-align: middle;\n",
              "    }\n",
              "\n",
              "    .dataframe tbody tr th {\n",
              "        vertical-align: top;\n",
              "    }\n",
              "\n",
              "    .dataframe thead th {\n",
              "        text-align: right;\n",
              "    }\n",
              "</style>\n",
              "<table border=\"1\" class=\"dataframe\">\n",
              "  <thead>\n",
              "    <tr style=\"text-align: right;\">\n",
              "      <th></th>\n",
              "      <th>keluhan_baku</th>\n",
              "      <th>keluhan</th>\n",
              "    </tr>\n",
              "  </thead>\n",
              "  <tbody>\n",
              "    <tr>\n",
              "      <th>0</th>\n",
              "      <td>assalamualaikum selamat malam admin mohon kons...</td>\n",
              "      <td>Assalamualaikum, selamat malam admin, mohon se...</td>\n",
              "    </tr>\n",
              "    <tr>\n",
              "      <th>1</th>\n",
              "      <td>rumah tangga 3 orang anak posisi rumah kontrak...</td>\n",
              "      <td>saya ibu rumah tangga 3 orang anak ..posisi ru...</td>\n",
              "    </tr>\n",
              "    <tr>\n",
              "      <th>2</th>\n",
              "      <td>pemangkasan pohon palem ruko grand city regenc...</td>\n",
              "      <td>pemangkasan pohon palem depan ruko grand city ...</td>\n",
              "    </tr>\n",
              "    <tr>\n",
              "      <th>3</th>\n",
              "      <td>mohon diperbaiki saluran air hujan tergenang j...</td>\n",
              "      <td>mohon diperbaiki saluran air karena setelah hu...</td>\n",
              "    </tr>\n",
              "    <tr>\n",
              "      <th>4</th>\n",
              "      <td>jalan berlubang belokan tepat excelso</td>\n",
              "      <td>jalan berlubang di belokan pas depan excelso</td>\n",
              "    </tr>\n",
              "  </tbody>\n",
              "</table>\n",
              "</div>"
            ],
            "text/plain": [
              "                                        keluhan_baku  \\\n",
              "0  assalamualaikum selamat malam admin mohon kons...   \n",
              "1  rumah tangga 3 orang anak posisi rumah kontrak...   \n",
              "2  pemangkasan pohon palem ruko grand city regenc...   \n",
              "3  mohon diperbaiki saluran air hujan tergenang j...   \n",
              "4              jalan berlubang belokan tepat excelso   \n",
              "\n",
              "                                             keluhan  \n",
              "0  Assalamualaikum, selamat malam admin, mohon se...  \n",
              "1  saya ibu rumah tangga 3 orang anak ..posisi ru...  \n",
              "2  pemangkasan pohon palem depan ruko grand city ...  \n",
              "3  mohon diperbaiki saluran air karena setelah hu...  \n",
              "4       jalan berlubang di belokan pas depan excelso  "
            ]
          },
          "execution_count": 36,
          "metadata": {},
          "output_type": "execute_result"
        }
      ],
      "source": [
        "kamusalay = pd.read_csv('https://raw.githubusercontent.com/nasalsabila/kamus-alay/master/colloquial-indonesian-lexicon.csv')\n",
        "\n",
        "katabaku_dict = {}\n",
        "\n",
        "for index, row in kamusalay.iterrows():\n",
        "    if row[0] not in katabaku_dict:\n",
        "        katabaku_dict[row[0]] = row[1]\n",
        "\n",
        "added_dict = {\n",
        "    'gile': 'gila',\n",
        "    'iye': 'iya',\n",
        "    'iyes': 'iya',\n",
        "    'kite': 'kita',\n",
        "    'gjls': 'tidak jelas',\n",
        "    'hrs': 'harus',\n",
        "    'krn': 'karena',\n",
        "    'blm': 'belum',\n",
        "    'pdhal': 'padahal',\n",
        "    'sgt': 'sangat',\n",
        "    'utk': 'untuk',\n",
        "    'ijin': 'izin',\n",
        "    'klau':'kalau',\n",
        "    'kl': 'kalau',\n",
        "    'klo': 'kalau',\n",
        "    'kurleb': 'kurang lebih',\n",
        "    'pembikinan':'pembuatan',\n",
        "    'yng': 'yang',\n",
        "    'trimakasih': 'terimakasih',\n",
        "    'trims': 'terimakasih',\n",
        "    'thx': 'terimakasih',\n",
        "    'tks': 'terimakasih',\n",
        "    'trima': 'terima',\n",
        "    'terimah' : 'terima',\n",
        "    'trmksh' : 'terimakasih',\n",
        "    'mhn' : 'mohon',\n",
        "    'az':'saja',\n",
        "    'sj': 'saja',\n",
        "    'tnya':'tanya',\n",
        "    'kmi': 'kami',\n",
        "    'nggih': 'iya',\n",
        "    'ktmu': 'ketemu',\n",
        "    'yak': 'ya',\n",
        "    'cb' : 'coba',\n",
        "    'jl': 'jalan',\n",
        "    'hoby' : 'hobi',\n",
        "    'bp' : 'bapak',\n",
        "    'bpk' : 'bapak',\n",
        "    'enggak' : 'tidak',\n",
        "    'gak' : 'tidak',\n",
        "    'gk' : 'tidak',\n",
        "    'engga' : 'tidak',\n",
        "    'tdk' : 'tidak',\n",
        "    'kk' : 'kartu keluarga',\n",
        "    'pas' : 'tepat',\n",
        "    'bolong' : 'berlubang',\n",
        "    'sebrang' : 'seberang',\n",
        "    'mc d' : 'mcd',\n",
        "    'di bantu' : 'dibantu',\n",
        "    'banyaj' : 'banyak',\n",
        "    'g' : 'tidak',\n",
        "    'dpett' : 'dapat',\n",
        "    'bntuan' : 'bantuan',\n",
        "    'speeti' : 'seperti',\n",
        "    'dpet' : 'dapat',\n",
        "    'dpeet' : 'dapat',\n",
        "    'lampu merah' : 'lampu lalu lintas',\n",
        "    'barusam' : 'barusan',\n",
        "    'ngapunten' : 'mohon maaf',\n",
        "    'sdgkan' : 'sedangkan',\n",
        "    'nyuwun tulung' : 'minta tolong',\n",
        "    'matur nuwun' : 'terima kasih',\n",
        "    'matur sembah nuwun' : 'terima kasih',\n",
        "    'mintak': 'minta',\n",
        "    'dirumahq' : 'dirumah saya',\n",
        "    'bantuanx': 'bantuannya',\n",
        "    'lainx' : 'lainnya',\n",
        "    'k' : 'ke',\n",
        "    'fasum' : 'fasilitas umum',\n",
        "    'gg' : 'gang',\n",
        "    'kec' : 'kecamatan',\n",
        "    'mleot' : 'meleyot',\n",
        "    'merenov' : 'merenovasi',\n",
        "    'karene' : 'karena',\n",
        "    'tikung' : 'tikungan',\n",
        "    'pnh' : 'pernah',\n",
        "    'bantua' : 'bantuan',\n",
        "    'jenengan' : 'anda',\n",
        "    'amblea' : 'ambles',\n",
        "    'eks' : 'bekas',\n",
        "    'wong' : 'orang',\n",
        "    'permakaman' : 'permakanan',\n",
        "    'didepa' : 'di depan',\n",
        "    'lom': 'belum',\n",
        "    'pengantat': 'pengantar',\n",
        "    'sring' : 'sering',\n",
        "    'team' : 'tim',\n",
        "    'boloe dewe' : 'saudara sendiri',\n",
        "    'alasanx' : 'alasannya',\n",
        "    'nglamar' : 'melamar'\n",
        "}\n",
        "\n",
        "katabaku_dict.update(added_dict)\n",
        "\n",
        "def normalized_term(document):\n",
        "    return [katabaku_dict[term] if term in katabaku_dict else term for term in document]\n",
        "\n",
        "df['keluhan_baku'] = df['keluhan_clean'].apply(normalized_term)\n",
        "df['keluhan_baku'] = df['keluhan_baku'].apply(lambda x: \" \".join(x))\n",
        "df['keluhan_clean'] = df['keluhan_clean'].apply(' '.join)\n",
        "\n",
        "df[['keluhan_baku', 'keluhan']].head()"
      ]
    },
    {
      "cell_type": "code",
      "execution_count": 37,
      "metadata": {
        "colab": {
          "base_uri": "https://localhost:8080/",
          "height": 1000
        },
        "id": "owELuJ41JxFT",
        "outputId": "82f7244a-f1c8-4a66-fed6-dc92edb11e0a"
      },
      "outputs": [],
      "source": [
        "df['keluhan_stopword'] = df['keluhan_baku'].apply(preprocess_text)\n",
        "df['keluhan_stopword'] = df['keluhan_stopword'].apply(' '.join)"
      ]
    },
    {
      "cell_type": "code",
      "execution_count": 38,
      "metadata": {
        "colab": {
          "base_uri": "https://localhost:8080/",
          "height": 1000
        },
        "id": "vDonAcRl1jtp",
        "outputId": "324106fc-2f87-4b15-e0fe-1d6d9825403c"
      },
      "outputs": [],
      "source": [
        "df['keluhan_baku'] = df['keluhan_baku'].fillna('')\n",
        "df['keluhan_stopword'] = df['keluhan_stopword'].fillna('')"
      ]
    },
    {
      "cell_type": "code",
      "execution_count": 39,
      "metadata": {
        "colab": {
          "base_uri": "https://localhost:8080/",
          "height": 144
        },
        "id": "iJofvbXN1oyA",
        "outputId": "bb8966a3-b27c-438a-da17-cd13e6596ed2"
      },
      "outputs": [],
      "source": [
        "merged_topik = pd.merge(df, topik, how='left', left_on='topik_id', right_on='id')\n",
        "merged_topik = merged_topik.rename(columns={'id_x':'id', 'name':'topik'})\n",
        "merged_topik = merged_topik.drop(['id_y', 'jenis_topik', 'topik_id'], axis = 1)"
      ]
    },
    {
      "cell_type": "code",
      "execution_count": 40,
      "metadata": {
        "colab": {
          "base_uri": "https://localhost:8080/",
          "height": 144
        },
        "id": "-K3z1F841sbt",
        "outputId": "81ff2b07-2c1e-4999-fe32-764d7fc32cf9"
      },
      "outputs": [],
      "source": [
        "merged_instansi = pd.merge(merged_topik, instansi, how='left', left_on='instansi_id', right_on='id')\n",
        "merged_instansi = merged_instansi.rename(columns={'id_x':'id', 'name':'instansi'})\n",
        "merged_instansi = merged_instansi.drop(['id_y', 'instansi_id'], axis = 1)"
      ]
    },
    {
      "cell_type": "code",
      "execution_count": 49,
      "metadata": {},
      "outputs": [
        {
          "data": {
            "text/html": [
              "<div>\n",
              "<style scoped>\n",
              "    .dataframe tbody tr th:only-of-type {\n",
              "        vertical-align: middle;\n",
              "    }\n",
              "\n",
              "    .dataframe tbody tr th {\n",
              "        vertical-align: top;\n",
              "    }\n",
              "\n",
              "    .dataframe thead th {\n",
              "        text-align: right;\n",
              "    }\n",
              "</style>\n",
              "<table border=\"1\" class=\"dataframe\">\n",
              "  <thead>\n",
              "    <tr style=\"text-align: right;\">\n",
              "      <th></th>\n",
              "      <th>id</th>\n",
              "      <th>keluhan</th>\n",
              "      <th>alamat</th>\n",
              "      <th>tanggal_keluhan</th>\n",
              "      <th>tanggal_ditanggapi</th>\n",
              "      <th>group_hari_respon_keluhan</th>\n",
              "      <th>keluhan_clean</th>\n",
              "      <th>keluhan_baku</th>\n",
              "      <th>keluhan_stopword</th>\n",
              "      <th>topik</th>\n",
              "      <th>instansi</th>\n",
              "      <th>kecamatan</th>\n",
              "      <th>kelurahan</th>\n",
              "    </tr>\n",
              "  </thead>\n",
              "  <tbody>\n",
              "    <tr>\n",
              "      <th>0</th>\n",
              "      <td>170339</td>\n",
              "      <td>Assalamualaikum, selamat malam admin, mohon se...</td>\n",
              "      <td>Warkop Jalan Bubutan, sebelah barat Tugu Pahla...</td>\n",
              "      <td>2023-01-23 13:09:00.000</td>\n",
              "      <td>2023-01-24 00:25:03.000</td>\n",
              "      <td>1 Sampai 3 Hari</td>\n",
              "      <td>assalamualaikum selamat malam admin mohon kons...</td>\n",
              "      <td>assalamualaikum selamat malam admin mohon kons...</td>\n",
              "      <td>assalamualaikum selamat malam admin mohon kons...</td>\n",
              "      <td>Parkir</td>\n",
              "      <td>Dinas Perhubungan</td>\n",
              "      <td>Bubutan</td>\n",
              "      <td>NaN</td>\n",
              "    </tr>\n",
              "    <tr>\n",
              "      <th>1</th>\n",
              "      <td>170377</td>\n",
              "      <td>saya ibu rumah tangga 3 orang anak ..posisi ru...</td>\n",
              "      <td>Jalan Wonorejo III, Wonorejo, Kota Surabaya, J...</td>\n",
              "      <td>2023-01-24 10:26:00.000</td>\n",
              "      <td>2023-01-25 00:12:15.000</td>\n",
              "      <td>1 Sampai 3 Hari</td>\n",
              "      <td>rumah tangga 3 orang anak posisi rumah kontrak...</td>\n",
              "      <td>rumah tangga 3 orang anak posisi rumah kontrak...</td>\n",
              "      <td>rumah tangga 3 orang anak posisi rumah kontrak...</td>\n",
              "      <td>MBR</td>\n",
              "      <td>Dinas Sosial</td>\n",
              "      <td>Tegalsari</td>\n",
              "      <td>Wonorejo Tegalsari</td>\n",
              "    </tr>\n",
              "    <tr>\n",
              "      <th>2</th>\n",
              "      <td>170399</td>\n",
              "      <td>pemangkasan pohon palem depan ruko grand city ...</td>\n",
              "      <td>Jalan Rungkut Madya, Rungkut Kidul, Kota Surab...</td>\n",
              "      <td>2023-01-25 04:36:00.000</td>\n",
              "      <td>2023-01-25 10:03:02.000</td>\n",
              "      <td>Lebih 7 Hari</td>\n",
              "      <td>pemangkasan pohon palem ruko grand city regenc...</td>\n",
              "      <td>pemangkasan pohon palem ruko grand city regenc...</td>\n",
              "      <td>pemangkasan pohon palem ruko grand city regenc...</td>\n",
              "      <td>Informasi Pemangkasan/Perantingan Pohon</td>\n",
              "      <td>Dinas Lingkungan Hidup</td>\n",
              "      <td>Gununganyar</td>\n",
              "      <td>Rungkut Tengah</td>\n",
              "    </tr>\n",
              "    <tr>\n",
              "      <th>3</th>\n",
              "      <td>171803</td>\n",
              "      <td>mohon diperbaiki saluran air karena setelah hu...</td>\n",
              "      <td>dari jalan margomulyo sampai Romo kalisari seb...</td>\n",
              "      <td>2023-02-25 12:01:00.000</td>\n",
              "      <td>2023-02-26 01:39:04.000</td>\n",
              "      <td>1 Sampai 3 Hari</td>\n",
              "      <td>mohon diperbaiki saluran air hujan tergenang j...</td>\n",
              "      <td>mohon diperbaiki saluran air hujan tergenang j...</td>\n",
              "      <td>mohon diperbaiki saluran air hujan tergenang j...</td>\n",
              "      <td>Saluran Tepi Jalan</td>\n",
              "      <td>Dinas Sumber Daya Air dan Bina Marga</td>\n",
              "      <td>Benowo</td>\n",
              "      <td>Tambak Oso Wilangun</td>\n",
              "    </tr>\n",
              "    <tr>\n",
              "      <th>4</th>\n",
              "      <td>171836</td>\n",
              "      <td>jalan berlubang di belokan pas depan excelso</td>\n",
              "      <td>jalan berlubang di belokan pas excelso jalan b...</td>\n",
              "      <td>2023-02-26 05:57:00.000</td>\n",
              "      <td>2023-02-27 00:50:39.000</td>\n",
              "      <td>4 Sampai 7 Hari</td>\n",
              "      <td>jalan berlubang belokan pas excelso</td>\n",
              "      <td>jalan berlubang belokan tepat excelso</td>\n",
              "      <td>jalan berlubang belokan excelso</td>\n",
              "      <td>Jalan Rusak dan Berlubang</td>\n",
              "      <td>Dinas Sumber Daya Air dan Bina Marga</td>\n",
              "      <td>Gubeng</td>\n",
              "      <td>Gubeng</td>\n",
              "    </tr>\n",
              "  </tbody>\n",
              "</table>\n",
              "</div>"
            ],
            "text/plain": [
              "       id                                            keluhan  \\\n",
              "0  170339  Assalamualaikum, selamat malam admin, mohon se...   \n",
              "1  170377  saya ibu rumah tangga 3 orang anak ..posisi ru...   \n",
              "2  170399  pemangkasan pohon palem depan ruko grand city ...   \n",
              "3  171803  mohon diperbaiki saluran air karena setelah hu...   \n",
              "4  171836       jalan berlubang di belokan pas depan excelso   \n",
              "\n",
              "                                              alamat          tanggal_keluhan  \\\n",
              "0  Warkop Jalan Bubutan, sebelah barat Tugu Pahla...  2023-01-23 13:09:00.000   \n",
              "1  Jalan Wonorejo III, Wonorejo, Kota Surabaya, J...  2023-01-24 10:26:00.000   \n",
              "2  Jalan Rungkut Madya, Rungkut Kidul, Kota Surab...  2023-01-25 04:36:00.000   \n",
              "3  dari jalan margomulyo sampai Romo kalisari seb...  2023-02-25 12:01:00.000   \n",
              "4  jalan berlubang di belokan pas excelso jalan b...  2023-02-26 05:57:00.000   \n",
              "\n",
              "        tanggal_ditanggapi group_hari_respon_keluhan  \\\n",
              "0  2023-01-24 00:25:03.000           1 Sampai 3 Hari   \n",
              "1  2023-01-25 00:12:15.000           1 Sampai 3 Hari   \n",
              "2  2023-01-25 10:03:02.000              Lebih 7 Hari   \n",
              "3  2023-02-26 01:39:04.000           1 Sampai 3 Hari   \n",
              "4  2023-02-27 00:50:39.000           4 Sampai 7 Hari   \n",
              "\n",
              "                                       keluhan_clean  \\\n",
              "0  assalamualaikum selamat malam admin mohon kons...   \n",
              "1  rumah tangga 3 orang anak posisi rumah kontrak...   \n",
              "2  pemangkasan pohon palem ruko grand city regenc...   \n",
              "3  mohon diperbaiki saluran air hujan tergenang j...   \n",
              "4                jalan berlubang belokan pas excelso   \n",
              "\n",
              "                                        keluhan_baku  \\\n",
              "0  assalamualaikum selamat malam admin mohon kons...   \n",
              "1  rumah tangga 3 orang anak posisi rumah kontrak...   \n",
              "2  pemangkasan pohon palem ruko grand city regenc...   \n",
              "3  mohon diperbaiki saluran air hujan tergenang j...   \n",
              "4              jalan berlubang belokan tepat excelso   \n",
              "\n",
              "                                    keluhan_stopword  \\\n",
              "0  assalamualaikum selamat malam admin mohon kons...   \n",
              "1  rumah tangga 3 orang anak posisi rumah kontrak...   \n",
              "2  pemangkasan pohon palem ruko grand city regenc...   \n",
              "3  mohon diperbaiki saluran air hujan tergenang j...   \n",
              "4                    jalan berlubang belokan excelso   \n",
              "\n",
              "                                     topik  \\\n",
              "0                                   Parkir   \n",
              "1                                      MBR   \n",
              "2  Informasi Pemangkasan/Perantingan Pohon   \n",
              "3                       Saluran Tepi Jalan   \n",
              "4                Jalan Rusak dan Berlubang   \n",
              "\n",
              "                               instansi    kecamatan            kelurahan  \n",
              "0                     Dinas Perhubungan      Bubutan                  NaN  \n",
              "1                          Dinas Sosial    Tegalsari   Wonorejo Tegalsari  \n",
              "2                Dinas Lingkungan Hidup  Gununganyar       Rungkut Tengah  \n",
              "3  Dinas Sumber Daya Air dan Bina Marga       Benowo  Tambak Oso Wilangun  \n",
              "4  Dinas Sumber Daya Air dan Bina Marga       Gubeng               Gubeng  "
            ]
          },
          "execution_count": 49,
          "metadata": {},
          "output_type": "execute_result"
        }
      ],
      "source": [
        "merged_instansi_kecamatan = pd.merge(merged_instansi, kecamatan, how='left', left_on='kecamatan_id', right_on='id')\n",
        "merged_instansi_kelurahan = pd.merge(merged_instansi_kecamatan, kelurahan, how='left', left_on='kelurahan_id', right_on='id')\n",
        "merged_instansi_kelurahan = merged_instansi_kelurahan.drop(['id'], axis=1)\n",
        "final_data =  merged_instansi_kelurahan.rename(columns={'name_x':'kecamatan', 'name_y':'kelurahan', 'id_x':'id'})\n",
        "final_data = final_data.drop(['id_y', 'kelurahan_id', 'kecamatan_id_x',  'kecamatan_id_y'],axis=1)\n",
        "final_data.head()"
      ]
    },
    {
      "cell_type": "code",
      "execution_count": 50,
      "metadata": {},
      "outputs": [],
      "source": [
        "final_data.to_excel('Dataset\\Dataset_Preprocessing.xlsx', index = False)"
      ]
    }
  ],
  "metadata": {
    "colab": {
      "provenance": []
    },
    "kernelspec": {
      "display_name": "Python 3",
      "name": "python3"
    },
    "language_info": {
      "codemirror_mode": {
        "name": "ipython",
        "version": 3
      },
      "file_extension": ".py",
      "mimetype": "text/x-python",
      "name": "python",
      "nbconvert_exporter": "python",
      "pygments_lexer": "ipython3",
      "version": "3.11.0"
    }
  },
  "nbformat": 4,
  "nbformat_minor": 0
}
